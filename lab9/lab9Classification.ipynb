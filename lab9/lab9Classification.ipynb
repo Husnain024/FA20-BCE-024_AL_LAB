{
  "nbformat": 4,
  "nbformat_minor": 0,
  "metadata": {
    "colab": {
      "provenance": []
    },
    "kernelspec": {
      "name": "python3",
      "display_name": "Python 3"
    },
    "language_info": {
      "name": "python"
    }
  },
  "cells": [
    {
      "cell_type": "code",
      "execution_count": 25,
      "metadata": {
        "colab": {
          "base_uri": "https://localhost:8080/"
        },
        "id": "FGLBt2pJt_Oh",
        "outputId": "5816ae6f-eb94-4519-f627-f31271deac08"
      },
      "outputs": [
        {
          "output_type": "stream",
          "name": "stdout",
          "text": [
            "   pregnant  glucose  bp  skin  insulin   bmi  pedigree  age  Label\n",
            "0  pregnant  glucose  bp  skin  insulin   bmi  pedigree  age  label\n",
            "1         6      148  72    35        0  33.6     0.627   50      1\n",
            "2         1       85  66    29        0  26.6     0.351   31      0\n",
            "3         8      183  64     0        0  23.3     0.672   32      1\n",
            "4         1       89  66    23       94  28.1     0.167   21      0\n",
            "---------------------------------------------------------------------------\n",
            "\n",
            "Accuracy: 0.7142857142857143\n",
            "---------------------------------------------------------------------------\n",
            "\n"
          ]
        },
        {
          "output_type": "stream",
          "name": "stderr",
          "text": [
            "<ipython-input-25-1eb04821d4de>:27: SettingWithCopyWarning: \n",
            "A value is trying to be set on a copy of a slice from a DataFrame.\n",
            "Try using .loc[row_indexer,col_indexer] = value instead\n",
            "\n",
            "See the caveats in the documentation: https://pandas.pydata.org/pandas-docs/stable/user_guide/indexing.html#returning-a-view-versus-a-copy\n",
            "  X[column] = label_encoder.fit_transform(X[column])\n",
            "<ipython-input-25-1eb04821d4de>:27: SettingWithCopyWarning: \n",
            "A value is trying to be set on a copy of a slice from a DataFrame.\n",
            "Try using .loc[row_indexer,col_indexer] = value instead\n",
            "\n",
            "See the caveats in the documentation: https://pandas.pydata.org/pandas-docs/stable/user_guide/indexing.html#returning-a-view-versus-a-copy\n",
            "  X[column] = label_encoder.fit_transform(X[column])\n",
            "<ipython-input-25-1eb04821d4de>:27: SettingWithCopyWarning: \n",
            "A value is trying to be set on a copy of a slice from a DataFrame.\n",
            "Try using .loc[row_indexer,col_indexer] = value instead\n",
            "\n",
            "See the caveats in the documentation: https://pandas.pydata.org/pandas-docs/stable/user_guide/indexing.html#returning-a-view-versus-a-copy\n",
            "  X[column] = label_encoder.fit_transform(X[column])\n",
            "<ipython-input-25-1eb04821d4de>:27: SettingWithCopyWarning: \n",
            "A value is trying to be set on a copy of a slice from a DataFrame.\n",
            "Try using .loc[row_indexer,col_indexer] = value instead\n",
            "\n",
            "See the caveats in the documentation: https://pandas.pydata.org/pandas-docs/stable/user_guide/indexing.html#returning-a-view-versus-a-copy\n",
            "  X[column] = label_encoder.fit_transform(X[column])\n",
            "<ipython-input-25-1eb04821d4de>:27: SettingWithCopyWarning: \n",
            "A value is trying to be set on a copy of a slice from a DataFrame.\n",
            "Try using .loc[row_indexer,col_indexer] = value instead\n",
            "\n",
            "See the caveats in the documentation: https://pandas.pydata.org/pandas-docs/stable/user_guide/indexing.html#returning-a-view-versus-a-copy\n",
            "  X[column] = label_encoder.fit_transform(X[column])\n",
            "<ipython-input-25-1eb04821d4de>:27: SettingWithCopyWarning: \n",
            "A value is trying to be set on a copy of a slice from a DataFrame.\n",
            "Try using .loc[row_indexer,col_indexer] = value instead\n",
            "\n",
            "See the caveats in the documentation: https://pandas.pydata.org/pandas-docs/stable/user_guide/indexing.html#returning-a-view-versus-a-copy\n",
            "  X[column] = label_encoder.fit_transform(X[column])\n",
            "<ipython-input-25-1eb04821d4de>:27: SettingWithCopyWarning: \n",
            "A value is trying to be set on a copy of a slice from a DataFrame.\n",
            "Try using .loc[row_indexer,col_indexer] = value instead\n",
            "\n",
            "See the caveats in the documentation: https://pandas.pydata.org/pandas-docs/stable/user_guide/indexing.html#returning-a-view-versus-a-copy\n",
            "  X[column] = label_encoder.fit_transform(X[column])\n"
          ]
        },
        {
          "output_type": "stream",
          "name": "stdout",
          "text": [
            "---------------------------------------------------------------------------\n",
            "\n",
            "Accuracy: 0.7445887445887446\n",
            "---------------------------------------------------------------------------\n",
            "\n"
          ]
        }
      ],
      "source": [
        "# Load libraries\n",
        "import pandas as pd\n",
        "from sklearn.tree import DecisionTreeClassifier # Import Decision Tree Classifi\n",
        "from sklearn.model_selection import train_test_split # Import train_test_split\n",
        "from sklearn import metrics #Import scikit-learn metrics module for accuracy ca\n",
        "from sklearn.preprocessing import LabelEncoder\n",
        "\n",
        "# Load Dataset\n",
        "col_names = ['pregnant', 'glucose', 'bp', 'skin', 'insulin', 'bmi', 'pedigree', 'age', 'Label' ]\n",
        "# load dataset\n",
        "pima = pd.read_csv(\"diabetes.csv\", header=None, names=col_names)\n",
        "pima_df= pima.head()\n",
        "print (pima_df)\n",
        "\n",
        "# Feature Selection\n",
        "# split dataset into features and target variable\n",
        "feature_cols = ['pregnant', 'insulin', 'bmi', 'age', 'glucose', 'bp', 'pedigree']\n",
        "X = pima[feature_cols]  # Features\n",
        "y = pima.Label  # Target variable\n",
        "\n",
        "# -----------------------Type Casting--------------------------------------\n",
        "for column in X.columns:\n",
        "    # Check if the column contains string values\n",
        "    if X[column].dtype == 'O':\n",
        "        # Convert the column to numeric using LabelEncoder\n",
        "        label_encoder = LabelEncoder()\n",
        "        X[column] = label_encoder.fit_transform(X[column])\n",
        "\n",
        "# Splitting Data\n",
        "X_train, X_test, y_train, y_test = train_test_split(X, y, test_size=0.3, random_state=1)\n",
        "\n",
        "# -----------------------Building Decision Tree Model----------------------\n",
        "clf = DecisionTreeClassifier()\n",
        "clf = clf.fit(X_train, y_train)\n",
        "y_pred = clf.predict(X_test)\n",
        "\n",
        "# -----------------------Evaluating the Model---------------------------------\n",
        "print(\"---------------------------------------------------------------------------\\n\")\n",
        "print(\"Accuracy:\", metrics.accuracy_score(y_test, y_pred))\n",
        "print(\"---------------------------------------------------------------------------\\n\")\n",
        "\n",
        "# -----------------------Visualizing Decision Trees -----------------------\n",
        "\n",
        "from sklearn.tree import export_graphviz\n",
        "import graphviz\n",
        "\n",
        "dot_data = export_graphviz(clf, out_file=None,\n",
        "                           feature_names=X_train.columns,\n",
        "                           class_names= [str(x) for x in clf.classes_],\n",
        "                           filled=True, rounded=True, special_characters=True)\n",
        "\n",
        "graph = graphviz.Source(dot_data)\n",
        "graph.render(\"decision_tree\")\n",
        "graph.view(\"decision_tree\")\n",
        "\n",
        "# -----------------------Optimizing Decision Tree Performance -----------------------\n",
        "clf = DecisionTreeClassifier(criterion=\"entropy\", max_depth=3)\n",
        "clf = clf.fit(X_train,y_train)\n",
        "y_pred = clf.predict(X_test)\n",
        "print(\"---------------------------------------------------------------------------\\n\")\n",
        "print(\"Accuracy:\", metrics.accuracy_score(y_test, y_pred))\n",
        "print(\"---------------------------------------------------------------------------\\n\")"
      ]
    }
  ]
}