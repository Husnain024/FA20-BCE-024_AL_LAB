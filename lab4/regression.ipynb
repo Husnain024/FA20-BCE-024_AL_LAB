{
  "nbformat": 4,
  "nbformat_minor": 0,
  "metadata": {
    "colab": {
      "provenance": []
    },
    "kernelspec": {
      "name": "python3",
      "display_name": "Python 3"
    },
    "language_info": {
      "name": "python"
    }
  },
  "cells": [
    {
      "cell_type": "code",
      "execution_count": 12,
      "metadata": {
        "colab": {
          "base_uri": "https://localhost:8080/"
        },
        "id": "fP6wge7RdCj8",
        "outputId": "8c44a4d4-5dad-499a-aebf-14fd5c91a7b7"
      },
      "outputs": [
        {
          "output_type": "stream",
          "name": "stdout",
          "text": [
            "--2023-10-19 11:48:23--  https://www.dropbox.com/s/veak3ugc4wj9luz/Alumni%20Giving%20Regression%20%28Edited%29.csv?dl=0\n",
            "Resolving www.dropbox.com (www.dropbox.com)... 162.125.2.18, 2620:100:6017:18::a27d:212\n",
            "Connecting to www.dropbox.com (www.dropbox.com)|162.125.2.18|:443... connected.\n",
            "HTTP request sent, awaiting response... 302 Found\n",
            "Location: /s/raw/veak3ugc4wj9luz/Alumni%20Giving%20Regression%20%28Edited%29.csv [following]\n",
            "--2023-10-19 11:48:23--  https://www.dropbox.com/s/raw/veak3ugc4wj9luz/Alumni%20Giving%20Regression%20%28Edited%29.csv\n",
            "Reusing existing connection to www.dropbox.com:443.\n",
            "HTTP request sent, awaiting response... 302 Found\n",
            "Location: https://uc223ef9f1141a8c1123a9fe30f8.dl.dropboxusercontent.com/cd/0/inline/CF5SqmLiaLqcRH1uyJnPuKO1CE5jrtwyk5Qo7P0HWl8fV5ARWZZZBfR7S9HkK4JnR4DAyPSBqHNSJ7bxuNsBLYTbg8h1p77OP5BaEBKZXgiHKRPpbSjuP2nqS1bYk8p9VxT44liZEvms0AC7SwxybYMz/file# [following]\n",
            "--2023-10-19 11:48:23--  https://uc223ef9f1141a8c1123a9fe30f8.dl.dropboxusercontent.com/cd/0/inline/CF5SqmLiaLqcRH1uyJnPuKO1CE5jrtwyk5Qo7P0HWl8fV5ARWZZZBfR7S9HkK4JnR4DAyPSBqHNSJ7bxuNsBLYTbg8h1p77OP5BaEBKZXgiHKRPpbSjuP2nqS1bYk8p9VxT44liZEvms0AC7SwxybYMz/file\n",
            "Resolving uc223ef9f1141a8c1123a9fe30f8.dl.dropboxusercontent.com (uc223ef9f1141a8c1123a9fe30f8.dl.dropboxusercontent.com)... 162.125.2.15, 2620:100:6022:15::a27d:420f\n",
            "Connecting to uc223ef9f1141a8c1123a9fe30f8.dl.dropboxusercontent.com (uc223ef9f1141a8c1123a9fe30f8.dl.dropboxusercontent.com)|162.125.2.15|:443... connected.\n",
            "HTTP request sent, awaiting response... 200 OK\n",
            "Length: 3504 (3.4K) [text/plain]\n",
            "Saving to: ‘--quiet’\n",
            "\n",
            "--quiet             100%[===================>]   3.42K  --.-KB/s    in 0s      \n",
            "\n",
            "2023-10-19 11:48:24 (1.15 GB/s) - ‘--quiet’ saved [3504/3504]\n",
            "\n",
            "--2023-10-19 11:48:24--  http://./Alumni%20Giving%20Regression%20(Edited).csv\n",
            "Resolving . (.)... failed: No address associated with hostname.\n",
            "wget: unable to resolve host address ‘.’\n",
            "FINISHED --2023-10-19 11:48:24--\n",
            "Total wall clock time: 0.7s\n",
            "Downloaded: 1 files, 3.4K in 0s (1.15 GB/s)\n",
            "Regression\n",
            "================================\n",
            "Regression Train set: RMSE \n",
            "================================\n",
            "Regression Test set: RMSE \n",
            "================================\n",
            "{'A': -0.0009337757382416938, 'B': 0.16012156890162943, 'C': -0.044160015425349614, 'D': 0.15217907817100407, 'E': 0.17539950794101047}\n"
          ]
        }
      ],
      "source": [
        "from keras.models import Sequential\n",
        "from keras.layers import Dense, Dropout\n",
        "from sklearn.metrics import classification_report, confusion_matrix\n",
        "from sklearn.model_selection import train_test_split\n",
        "from sklearn.metrics import mean_squared_error\n",
        "import numpy as np\n",
        "from sklearn import linear_model\n",
        "from sklearn import preprocessing\n",
        "from sklearn import tree\n",
        "from sklearn.ensemble import RandomForestRegressor,GradientBoostingRegressor\n",
        "import pandas as pd\n",
        "import csv\n",
        "\n",
        "!wget https://www.dropbox.com/s/veak3ugc4wj9luz/Alumni%20Giving%20Regression%20%28Edited%29.csv?dl=0 -O--quiet \"./Alumni Giving Regression (Edited).csv\"\n",
        "\n",
        "np.random.seed(7)\n",
        "df = pd.read_csv(\"Alumni Giving Regression (Edited).csv\", delimiter = \",\")\n",
        "df.head()\n",
        "\n",
        "df.describe()\n",
        "\n",
        "corr=df.corr(method ='pearson')\n",
        "corr\n",
        "\n",
        "Y_POSITION = 5\n",
        "model_1_features = [i for i in range(0,Y_POSITION)]\n",
        "X\t= df.iloc[:,model_1_features]\n",
        "Y\t= df.iloc[:,Y_POSITION]\n",
        "X_train, X_test, y_train, y_test = train_test_split(X, Y, test_size=0.20, random_state=2020)\n",
        "\n",
        "# Model 1 linear regression\n",
        "\n",
        "model1 = linear_model.LinearRegression()\n",
        "model1.fit(X_train, y_train)\n",
        "y_pred_train1 = model1.predict(X_train)\n",
        "print(\"Regression\")\n",
        "print(\"================================\")\n",
        "RMSE_train1 = mean_squared_error(y_train,y_pred_train1)\n",
        "print(\"Regression Train set: RMSE \".format(RMSE_train1))\n",
        "\n",
        "print(\"================================\")\n",
        "y_pred1 = model1.predict(X_test)\n",
        "RMSE_test1 = mean_squared_error(y_test,y_pred1)\n",
        "print(\"Regression Test set: RMSE \".format(RMSE_test1))\n",
        "print(\"================================\")\n",
        "coef_dict = {}\n",
        "for coef, feat in zip(model1.coef_,model_1_features): coef_dict[df.columns[feat]] = coef\n",
        "print(coef_dict)\n",
        "\n"
      ]
    },
    {
      "cell_type": "code",
      "source": [],
      "metadata": {
        "id": "k5-L0KCciTK8"
      },
      "execution_count": null,
      "outputs": []
    }
  ]
}